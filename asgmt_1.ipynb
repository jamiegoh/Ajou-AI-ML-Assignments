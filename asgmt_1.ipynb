{
 "cells": [
  {
   "cell_type": "markdown",
   "metadata": {},
   "source": [
    "Goh Jie Min Jamie, 202332158, jamiegoh@ajou.ac.kr"
   ]
  },
  {
   "cell_type": "markdown",
   "metadata": {},
   "source": [
    "1) Convert Celsius Function Definition"
   ]
  },
  {
   "cell_type": "code",
   "execution_count": 5,
   "metadata": {},
   "outputs": [
    {
     "name": "stdout",
     "output_type": "stream",
     "text": [
      "41.0 degrees Fahrenheit\n"
     ]
    }
   ],
   "source": [
    "def convertCelsius(celsius: float) -> float:\n",
    "    return celsius * (9/5) + 32\n",
    "\n",
    "celsiusInput = float(input(\"Please enter a float value in celsius to be converted to Fahrenheit: \"))\n",
    "convertedInput = convertCelsius(celsiusInput)\n",
    "print(convertedInput, \"degrees Fahrenheit\")"
   ]
  },
  {
   "cell_type": "markdown",
   "metadata": {},
   "source": [
    "2) Get Length Function Definition"
   ]
  },
  {
   "cell_type": "code",
   "execution_count": 6,
   "metadata": {},
   "outputs": [
    {
     "name": "stdout",
     "output_type": "stream",
     "text": [
      "The length of the input is total 5 characters.\n"
     ]
    }
   ],
   "source": [
    "def getLength():\n",
    "    word = input(\"Enter a word or phrase\")\n",
    "    length = len(word)\n",
    "    print(\"The length of the input is total\" , length , \"characters.\")\n",
    "\n",
    "getLength()"
   ]
  },
  {
   "cell_type": "markdown",
   "metadata": {},
   "source": [
    "3) Quadratic Root Function Definition"
   ]
  },
  {
   "cell_type": "code",
   "execution_count": 9,
   "metadata": {},
   "outputs": [
    {
     "name": "stdout",
     "output_type": "stream",
     "text": [
      "The solutions include -4.0 and -5.0\n"
     ]
    }
   ],
   "source": [
    "import math\n",
    "\n",
    "def intCheck(prompt):\n",
    "    while True:\n",
    "        try:\n",
    "            value = int(input(prompt))\n",
    "            return value\n",
    "        except ValueError:\n",
    "            print(\"Please enter an integer.\")\n",
    "\n",
    "def quadraticRoot():\n",
    "    a = intCheck(\"Enter the coefficient of x^2\")\n",
    "    b = intCheck(\"Enter the coefficient of x\")\n",
    "    c = intCheck(\"Enter the constant\")\n",
    "\n",
    "    discriminant = (b**2) - (4*a*c)\n",
    "\n",
    "    if discriminant < 0:\n",
    "        print (\"This equation has no real solution.\")\n",
    "\n",
    "    elif discriminant == 0:\n",
    "        x = (-b+math.sqrt(b**2-4*a*c))/2*a\n",
    "        print (\"This equation has one solution: \" , x )\n",
    "\n",
    "    else:\n",
    "        xneg = (-b-math.sqrt(discriminant))/(2*a)\n",
    "        xpos = (-b+math.sqrt(discriminant))/(2*a)\n",
    "        print(\"The solutions include\", xpos , \"and\",xneg)\n",
    "\n",
    "quadraticRoot()"
   ]
  },
  {
   "attachments": {},
   "cell_type": "markdown",
   "metadata": {},
   "source": [
    "4) Calculate Euclidean Distance Function Definition"
   ]
  },
  {
   "cell_type": "code",
   "execution_count": 3,
   "metadata": {},
   "outputs": [
    {
     "data": {
      "text/plain": [
       "14.142135623730951"
      ]
     },
     "execution_count": 3,
     "metadata": {},
     "output_type": "execute_result"
    }
   ],
   "source": [
    "\n",
    "def calcDistance(x1,y1,x2,y2):\n",
    "    distance = math.sqrt((x2-x1)**2 + (y2-y1)**2)\n",
    "    return distance \n",
    "\n",
    "calcDistance(5,10,15,20)"
   ]
  }
 ],
 "metadata": {
  "kernelspec": {
   "display_name": "Python 3.9.7 ('base')",
   "language": "python",
   "name": "python3"
  },
  "language_info": {
   "codemirror_mode": {
    "name": "ipython",
    "version": 3
   },
   "file_extension": ".py",
   "mimetype": "text/x-python",
   "name": "python",
   "nbconvert_exporter": "python",
   "pygments_lexer": "ipython3",
   "version": "3.9.7"
  },
  "orig_nbformat": 4,
  "vscode": {
   "interpreter": {
    "hash": "09f92ce9eaf96d5cbd555d6a483e2e2f262a753ce781ae583503ac4f9a6239eb"
   }
  }
 },
 "nbformat": 4,
 "nbformat_minor": 2
}
